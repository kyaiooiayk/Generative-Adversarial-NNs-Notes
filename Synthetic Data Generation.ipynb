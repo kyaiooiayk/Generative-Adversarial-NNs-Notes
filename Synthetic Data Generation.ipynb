{
 "cells": [
  {
   "cell_type": "markdown",
   "id": "23073097",
   "metadata": {
    "toc": true
   },
   "source": [
    "<h1>Table of Contents<span class=\"tocSkip\"></span></h1>\n",
    "<div class=\"toc\"><ul class=\"toc-item\"><li><span><a href=\"#Introduction\" data-toc-modified-id=\"Introduction-1\">Introduction</a></span></li><li><span><a href=\"#Imports\" data-toc-modified-id=\"Imports-2\">Imports</a></span></li><li><span><a href=\"#Get-the-data\" data-toc-modified-id=\"Get-the-data-3\">Get the data</a></span></li><li><span><a href=\"#Generate-synthetic-data\" data-toc-modified-id=\"Generate-synthetic-data-4\">Generate synthetic data</a></span><ul class=\"toc-item\"><li><span><a href=\"#via-GANs\" data-toc-modified-id=\"via-GANs-4.1\">via GANs</a></span></li><li><span><a href=\"#via-supervised-learning\" data-toc-modified-id=\"via-supervised-learning-4.2\">via supervised learning</a></span></li><li><span><a href=\"#via-unsupervised-learning\" data-toc-modified-id=\"via-unsupervised-learning-4.3\">via unsupervised learning</a></span></li></ul></li><li><span><a href=\"#References\" data-toc-modified-id=\"References-5\">References</a></span></li></ul></div>"
   ]
  },
  {
   "cell_type": "markdown",
   "id": "8793800f",
   "metadata": {},
   "source": [
    "# Introduction\n",
    "<hr style = \"border:2px solid black\" ></hr>"
   ]
  },
  {
   "cell_type": "markdown",
   "id": "eb58ab9c",
   "metadata": {},
   "source": [
    "<div class=\"alert alert-warning\">\n",
    "<font color=black>\n",
    "\n",
    "**What?** Synthetic data generation\n",
    "\n",
    "</font>\n",
    "</div>"
   ]
  },
  {
   "cell_type": "markdown",
   "id": "3dee763f",
   "metadata": {},
   "source": [
    "# Imports\n",
    "<hr style = \"border:2px solid black\" ></hr>"
   ]
  },
  {
   "cell_type": "code",
   "execution_count": null,
   "id": "e15547c9",
   "metadata": {
    "ExecuteTime": {
     "end_time": "2022-09-19T07:29:36.436091Z",
     "start_time": "2022-09-19T07:29:33.834619Z"
    }
   },
   "outputs": [],
   "source": [
    "from sklearn.datasets import fetch_california_housing\n",
    "import pandas as pd\n",
    "import numpy as np\n",
    "import matplotlib. pyplot as plt\n",
    "import yfinance as yf\n",
    "import datetime\n",
    "import warnings\n",
    "import numpy as np\n",
    "#from ctgan import CTGANSynthesizer\n",
    "#from sdv.evaluation import evaluate\n",
    "#from table_evaluator import TableEvaluator\n",
    "from sklearn.datasets import make_classification\n",
    "warnings.filterwarnings('ignore')"
   ]
  },
  {
   "cell_type": "markdown",
   "id": "26d01d6e",
   "metadata": {},
   "source": [
    "# Get the data\n",
    "<hr style = \"border:2px solid black\" ></hr>"
   ]
  },
  {
   "cell_type": "code",
   "execution_count": null,
   "id": "eb4372d3",
   "metadata": {
    "ExecuteTime": {
     "end_time": "2022-09-19T06:49:13.531896Z",
     "start_time": "2022-09-19T06:49:12.630072Z"
    }
   },
   "outputs": [],
   "source": [
    "X, y = fetch_california_housing(return_X_y=True)"
   ]
  },
  {
   "cell_type": "code",
   "execution_count": null,
   "id": "a89d8166",
   "metadata": {
    "ExecuteTime": {
     "end_time": "2022-09-19T06:49:13.539465Z",
     "start_time": "2022-09-19T06:49:13.535724Z"
    }
   },
   "outputs": [],
   "source": [
    "california_housing=np.column_stack([X, y])\n",
    "california_housing_df=pd.DataFrame(california_housing)"
   ]
  },
  {
   "cell_type": "code",
   "execution_count": null,
   "id": "9a118a56",
   "metadata": {},
   "outputs": [],
   "source": [
    "california_housing_df.describe()"
   ]
  },
  {
   "cell_type": "markdown",
   "id": "97d21002",
   "metadata": {},
   "source": [
    "# Generate synthetic data\n",
    "<hr style = \"border:2px solid black\" ></hr>"
   ]
  },
  {
   "cell_type": "markdown",
   "id": "2a63fd77",
   "metadata": {},
   "source": [
    "<div class=\"alert alert-info\">\n",
    "<font color=black>\n",
    "\n",
    "- The following methods will be used to generate synthetic data:\n",
    "    - [x] via GANs\n",
    "    - [x] via supervised learning\n",
    "    - [x] via unsupevised learning\n",
    "    - [] via HMM - Hidden Markov Model\n",
    "     \n",
    "- For each method the quality of the synthetic data will be evaluated in two ways:\n",
    "    - [x] via pandas `.describe()`\n",
    "    - [x] via sdv package - Synthetic Data Vault (SDV)\n",
    "\n",
    "</font>\n",
    "</div>"
   ]
  },
  {
   "cell_type": "markdown",
   "id": "2612ea2a",
   "metadata": {},
   "source": [
    "## via GANs"
   ]
  },
  {
   "cell_type": "code",
   "execution_count": null,
   "id": "3be1ef00",
   "metadata": {
    "ExecuteTime": {
     "end_time": "2022-09-19T06:49:14.052870Z",
     "start_time": "2022-09-19T06:49:13.542069Z"
    }
   },
   "outputs": [],
   "source": [
    "ctgan = CTGANSynthesizer(epochs=10)\n",
    "ctgan.fit(california_housing_df)\n",
    "synt_sample = ctgan.sample(len(california_housing_df))"
   ]
  },
  {
   "cell_type": "code",
   "execution_count": null,
   "id": "2d195987",
   "metadata": {
    "ExecuteTime": {
     "end_time": "2022-09-19T06:49:14.143124Z",
     "start_time": "2022-09-19T06:49:14.143104Z"
    }
   },
   "outputs": [],
   "source": [
    "california_housing_df.describe()"
   ]
  },
  {
   "cell_type": "code",
   "execution_count": null,
   "id": "753f84fc",
   "metadata": {
    "ExecuteTime": {
     "end_time": "2022-09-19T06:49:14.144643Z",
     "start_time": "2022-09-19T06:49:14.144622Z"
    }
   },
   "outputs": [],
   "source": [
    "synt_sample.describe()"
   ]
  },
  {
   "cell_type": "code",
   "execution_count": null,
   "id": "f3abe89f",
   "metadata": {
    "ExecuteTime": {
     "end_time": "2022-09-19T06:49:14.146791Z",
     "start_time": "2022-09-19T06:49:14.146771Z"
    }
   },
   "outputs": [],
   "source": [
    "evaluate(synt_sample, california_housing_df)"
   ]
  },
  {
   "cell_type": "code",
   "execution_count": null,
   "id": "4ed12311",
   "metadata": {
    "ExecuteTime": {
     "end_time": "2022-09-19T06:49:14.148352Z",
     "start_time": "2022-09-19T06:49:14.148334Z"
    }
   },
   "outputs": [],
   "source": [
    "\n",
    "table_evaluator =  TableEvaluator(california_housing_df, synt_sample)\n",
    "\n",
    "table_evaluator.visual_evaluation()"
   ]
  },
  {
   "cell_type": "markdown",
   "id": "d26de1ba",
   "metadata": {},
   "source": [
    "## via supervised learning"
   ]
  },
  {
   "cell_type": "code",
   "execution_count": null,
   "id": "a17caa4f",
   "metadata": {
    "ExecuteTime": {
     "end_time": "2022-09-19T06:49:14.149980Z",
     "start_time": "2022-09-19T06:49:14.149960Z"
    }
   },
   "outputs": [],
   "source": [
    "from sklearn.datasets import make_regression\n",
    "import matplotlib.pyplot as plt\n",
    "from matplotlib import cm"
   ]
  },
  {
   "cell_type": "code",
   "execution_count": null,
   "id": "6b6fed38",
   "metadata": {
    "ExecuteTime": {
     "end_time": "2022-09-19T06:49:14.151949Z",
     "start_time": "2022-09-19T06:49:14.151932Z"
    }
   },
   "outputs": [],
   "source": [
    "X, y = make_regression(n_samples=1000, n_features=3, noise=0.2,\n",
    "                       random_state=123)\n",
    "\n",
    "plt.scatter(X[:, 0], X[:, 1], alpha= 0.3, cmap='Greys', c=y)"
   ]
  },
  {
   "cell_type": "code",
   "execution_count": null,
   "id": "6d82677e",
   "metadata": {
    "ExecuteTime": {
     "end_time": "2022-09-19T06:49:14.153660Z",
     "start_time": "2022-09-19T06:49:14.153642Z"
    }
   },
   "outputs": [],
   "source": [
    "plt.figure(figsize=(18, 18))\n",
    "k = 0\n",
    "\n",
    "for i in range(0, 10):\n",
    "    X, y = make_regression(n_samples=100, n_features=3, noise=i,\n",
    "                           random_state=123) \n",
    "    k+=1\n",
    "    plt.subplot(5, 2, k)\n",
    "    profit_margin_orange = np.asarray([20, 35, 40])\n",
    "    plt.scatter(X[:, 0], X[:, 1], alpha=0.3, cmap=cm.Greys, c=y)\n",
    "    plt.title('Synthetic Data with Different Noises: ' + str(i))\n",
    "plt.show()"
   ]
  },
  {
   "cell_type": "code",
   "execution_count": null,
   "id": "2865b966",
   "metadata": {
    "ExecuteTime": {
     "end_time": "2022-09-19T06:49:14.155378Z",
     "start_time": "2022-09-19T06:49:14.155357Z"
    }
   },
   "outputs": [],
   "source": []
  },
  {
   "cell_type": "code",
   "execution_count": null,
   "id": "e6d249dc",
   "metadata": {
    "ExecuteTime": {
     "end_time": "2022-09-19T06:49:14.157264Z",
     "start_time": "2022-09-19T06:49:14.157246Z"
    }
   },
   "outputs": [],
   "source": [
    "plt.figure(figsize=(18, 18))\n",
    "k = 0\n",
    "\n",
    "for i in range(2, 6):\n",
    "    X, y = make_classification(n_samples=100,\n",
    "                               n_features=4,\n",
    "                               n_classes=i,\n",
    "                               n_redundant=0,\n",
    "                               n_informative=4,\n",
    "                               random_state=123)\n",
    "    k+=1\n",
    "    plt.subplot(2, 2, k)\n",
    "    plt.scatter(X[: ,0], X[:, 1], alpha=0.8, cmap='gray', c=y)\n",
    "    plt.title('Synthetic Data with Different Classes: ' + str(i))\n",
    "plt.show()"
   ]
  },
  {
   "cell_type": "markdown",
   "id": "5c84c980",
   "metadata": {},
   "source": [
    "## via unsupervised learning"
   ]
  },
  {
   "cell_type": "code",
   "execution_count": null,
   "id": "d7601cd9",
   "metadata": {
    "ExecuteTime": {
     "end_time": "2022-09-19T06:49:14.158882Z",
     "start_time": "2022-09-19T06:49:14.158864Z"
    }
   },
   "outputs": [],
   "source": [
    "from sklearn.datasets import make_blobs"
   ]
  },
  {
   "cell_type": "code",
   "execution_count": null,
   "id": "715ab91e",
   "metadata": {
    "ExecuteTime": {
     "end_time": "2022-09-19T06:49:14.160553Z",
     "start_time": "2022-09-19T06:49:14.160536Z"
    }
   },
   "outputs": [],
   "source": [
    "X, y = make_blobs(n_samples=100, centers=2, \n",
    "                      n_features=2, random_state=0)"
   ]
  },
  {
   "cell_type": "code",
   "execution_count": null,
   "id": "459ec07c",
   "metadata": {
    "ExecuteTime": {
     "end_time": "2022-09-19T06:49:14.162385Z",
     "start_time": "2022-09-19T06:49:14.162368Z"
    },
    "scrolled": true
   },
   "outputs": [],
   "source": [
    "plt.figure(figsize=(18, 18))\n",
    "k = 0\n",
    "for i in range(2, 6):\n",
    "    X, y = make_blobs(n_samples=100, centers=i,\n",
    "                      n_features=2, random_state=0)\n",
    "    k += 1\n",
    "    plt.subplot(2, 2, k)\n",
    "    my_scatter_plot = plt.scatter(X[:, 0], X[:, 1],\n",
    "                                  alpha=0.3, cmap='gray', c=y)\n",
    "    plt.title('Synthetic Data with Different Clusters: ' + str(i))\n",
    "plt.show()"
   ]
  },
  {
   "cell_type": "markdown",
   "id": "eb2af5b9",
   "metadata": {},
   "source": [
    "# References\n",
    "<hr style = \"border:2px solid black\" ></hr>"
   ]
  },
  {
   "cell_type": "markdown",
   "id": "d95077ee",
   "metadata": {},
   "source": [
    "<div class=\"alert alert-warning\">\n",
    "<font color=black>\n",
    "\n",
    "- https://github.com/abdullahkarasan/mlfrm/blob/main/codes/chp_10.ipynb\n",
    "- Machine Learning for Financial Risk Management with Python Abdullah Karasan\n",
    "\n",
    "</font>\n",
    "</div>"
   ]
  },
  {
   "cell_type": "code",
   "execution_count": null,
   "id": "db8801f2",
   "metadata": {},
   "outputs": [],
   "source": []
  }
 ],
 "metadata": {
  "kernelspec": {
   "display_name": "ML4T",
   "language": "python",
   "name": "ml4t"
  },
  "language_info": {
   "codemirror_mode": {
    "name": "ipython",
    "version": 3
   },
   "file_extension": ".py",
   "mimetype": "text/x-python",
   "name": "python",
   "nbconvert_exporter": "python",
   "pygments_lexer": "ipython3",
   "version": "3.10.4"
  },
  "latex_envs": {
   "LaTeX_envs_menu_present": true,
   "autoclose": false,
   "autocomplete": true,
   "bibliofile": "biblio.bib",
   "cite_by": "apalike",
   "current_citInitial": 1,
   "eqLabelWithNumbers": true,
   "eqNumInitial": 1,
   "hotkeys": {
    "equation": "Ctrl-E",
    "itemize": "Ctrl-I"
   },
   "labels_anchors": false,
   "latex_user_defs": false,
   "report_style_numbering": false,
   "user_envs_cfg": false
  },
  "toc": {
   "base_numbering": 1,
   "nav_menu": {},
   "number_sections": false,
   "sideBar": true,
   "skip_h1_title": false,
   "title_cell": "Table of Contents",
   "title_sidebar": "Contents",
   "toc_cell": true,
   "toc_position": {},
   "toc_section_display": true,
   "toc_window_display": true
  },
  "varInspector": {
   "cols": {
    "lenName": 16,
    "lenType": 16,
    "lenVar": 40
   },
   "kernels_config": {
    "python": {
     "delete_cmd_postfix": "",
     "delete_cmd_prefix": "del ",
     "library": "var_list.py",
     "varRefreshCmd": "print(var_dic_list())"
    },
    "r": {
     "delete_cmd_postfix": ") ",
     "delete_cmd_prefix": "rm(",
     "library": "var_list.r",
     "varRefreshCmd": "cat(var_dic_list()) "
    }
   },
   "types_to_exclude": [
    "module",
    "function",
    "builtin_function_or_method",
    "instance",
    "_Feature"
   ],
   "window_display": false
  }
 },
 "nbformat": 4,
 "nbformat_minor": 5
}
